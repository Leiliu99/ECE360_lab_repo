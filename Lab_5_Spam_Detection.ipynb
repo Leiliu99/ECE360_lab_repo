{
  "nbformat": 4,
  "nbformat_minor": 0,
  "metadata": {
    "colab": {
      "name": "Lab_5_Spam_Detection.ipynb",
      "provenance": [],
      "collapsed_sections": [],
      "toc_visible": true
    },
    "kernelspec": {
      "display_name": "Python 3",
      "language": "python",
      "name": "python3"
    },
    "language_info": {
      "codemirror_mode": {
        "name": "ipython",
        "version": 3
      },
      "file_extension": ".py",
      "mimetype": "text/x-python",
      "name": "python",
      "nbconvert_exporter": "python",
      "pygments_lexer": "ipython3",
      "version": "3.6.3"
    }
  },
  "cells": [
    {
      "cell_type": "markdown",
      "metadata": {
        "id": "_bphECiUa9zw"
      },
      "source": [
        "# Lab 5: Spam Detection\n",
        "\n",
        "**Deadline**: Monday, March 15, 5:00 PM\n",
        "\n",
        "**Late Penalty**: There is a penalty-free grace period of one hour past the deadline. Any work that is submitted between 1 hour and 24 hours past the deadline will receive a 20% grade deduction. No other late work is accepted. Quercus submission time will be used, not your local computer time. You can submit your labs as many times as you want before the deadline, so please submit often and early.\n",
        "\n",
        "**TA**: Gautam Dawar <gautam.dawar@mail.utoronto.ca>\n",
        "\n",
        "In this assignment, we will build a recurrent neural network to classify a SMS text message\n",
        "as \"spam\" or \"not spam\". In the process, you will\n",
        "    \n",
        "1. Clean and process text data for machine learning.\n",
        "2. Understand and implement a character-level recurrent neural network.\n",
        "3. Use torchtext to build recurrent neural network models.\n",
        "4. Understand batching for a recurrent neural network, and use torchtext to implement RNN batching.\n",
        "\n",
        "### What to submit\n",
        "\n",
        "Submit a PDF file containing all your code, outputs, and write-up. You can produce a PDF of your Google Colab file by going to File > Print and then save as PDF. The Colab instructions have more information (.html files are also acceptable).\n",
        "\n",
        "Do not submit any other files produced by your code.\n",
        "\n",
        "Include a link to your colab file in your submission."
      ]
    },
    {
      "cell_type": "code",
      "metadata": {
        "colab": {
          "base_uri": "https://localhost:8080/"
        },
        "id": "_wxjbQCuTYvk",
        "outputId": "c7247bfa-0f0f-4a68-b1e6-c95109bde867"
      },
      "source": [
        "%%shell\n",
        "jupyter nbconvert --to html /Lab_5_Spam_Detection.ipynb"
      ],
      "execution_count": 2,
      "outputs": [
        {
          "output_type": "stream",
          "text": [
            "[NbConvertApp] Converting notebook /Lab_5_Spam_Detection.ipynb to html\n",
            "[NbConvertApp] Writing 449984 bytes to /Lab_5_Spam_Detection.html\n"
          ],
          "name": "stdout"
        },
        {
          "output_type": "execute_result",
          "data": {
            "text/plain": [
              ""
            ]
          },
          "metadata": {
            "tags": []
          },
          "execution_count": 2
        }
      ]
    },
    {
      "cell_type": "markdown",
      "metadata": {
        "id": "rWiUqJJTa9z6"
      },
      "source": [
        "## Colab Link\n",
        "\n",
        "Include a link to your Colab file here. If you would like the TA to look at your\n",
        "Colab file in case your solutions are cut off, **please make sure that your Colab\n",
        "file is publicly accessible at the time of submission**.\n",
        "\n",
        "Colab Link:https://colab.research.google.com/drive/1t1Tiydavlvl1d1oCBNo_IEIeE5c7mjtd?usp=sharing\n"
      ]
    },
    {
      "cell_type": "code",
      "metadata": {
        "collapsed": true,
        "id": "HgfNOUaPa9z8"
      },
      "source": [
        "import torch\n",
        "import torch.nn as nn\n",
        "import torch.nn.functional as F\n",
        "import torch.optim as optim\n",
        "import numpy as np"
      ],
      "execution_count": null,
      "outputs": []
    },
    {
      "cell_type": "markdown",
      "metadata": {
        "id": "M0jLI9LBa90C"
      },
      "source": [
        "## Part 1. Data Cleaning [15 pt]\n",
        "\n",
        "We will be using the \"SMS Spam Collection Data Set\" available at http://archive.ics.uci.edu/ml/datasets/SMS+Spam+Collection\n",
        "\n",
        "There is a link to download the \"Data Folder\" at the very top of the webpage. Download the zip file, unzip it, and upload the file `SMSSpamCollection` to Colab.    "
      ]
    },
    {
      "cell_type": "markdown",
      "metadata": {
        "id": "sSuF7C_Ga90E"
      },
      "source": [
        "### Part (a) [2 pt]\n",
        "\n",
        "Open up the file in Python, and print out one example of a spam SMS, and one example of a non-spam SMS.\n",
        "\n",
        "What is the label value for a spam message, and what is the label value for a non-spam message?"
      ]
    },
    {
      "cell_type": "code",
      "metadata": {
        "colab": {
          "base_uri": "https://localhost:8080/"
        },
        "id": "I_IfXHeTa90F",
        "outputId": "28eeb8ad-85d0-4f32-a9fe-59fdc4ea2c40"
      },
      "source": [
        "for line in open('/SMSSpamCollection'):\n",
        "    if(line[0] == 'h'):\n",
        "      print(line)\n",
        "      break\n",
        "for line in open('/SMSSpamCollection'):\n",
        "    if(line[0] == 's'):\n",
        "      print(line)\n",
        "      break"
      ],
      "execution_count": null,
      "outputs": [
        {
          "output_type": "stream",
          "text": [
            "ham\tGo until jurong point, crazy.. Available only in bugis n great world la e buffet... Cine there got amore wat...\n",
            "\n",
            "spam\tFree entry in 2 a wkly comp to win FA Cup final tkts 21st May 2005. Text FA to 87121 to receive entry question(std txt rate)T&C's apply 08452810075over18's\n",
            "\n"
          ],
          "name": "stdout"
        }
      ]
    },
    {
      "cell_type": "markdown",
      "metadata": {
        "id": "_9oYk5qSHAyE"
      },
      "source": [
        "The label for spam message is  **\"spam\"**\n",
        "\n",
        "The label for non+spame message is **\"ham\"**"
      ]
    },
    {
      "cell_type": "markdown",
      "metadata": {
        "id": "AukA6vMVa90d"
      },
      "source": [
        "### Part (b) [1 pt]\n",
        "\n",
        "How many spam messages are there in the data set?\n",
        "How many non-spam messages are there in the data set?\n"
      ]
    },
    {
      "cell_type": "code",
      "metadata": {
        "colab": {
          "base_uri": "https://localhost:8080/"
        },
        "id": "LgsqyemVa90e",
        "outputId": "7902fe2d-478a-4fb2-b356-9be89421e0bb"
      },
      "source": [
        "spam = 0\n",
        "ham = 0\n",
        "for line in open('/SMSSpamCollection'):\n",
        "    if(line[0] == 's'):\n",
        "      spam += 1\n",
        "    else:\n",
        "      ham += 1\n",
        "\n",
        "print(\"total spam message is: \", spam)\n",
        "print(\"total ham message is: \", ham)"
      ],
      "execution_count": null,
      "outputs": [
        {
          "output_type": "stream",
          "text": [
            "total spam message is:  747\n",
            "total ham message is:  4827\n"
          ],
          "name": "stdout"
        }
      ]
    },
    {
      "cell_type": "markdown",
      "metadata": {
        "id": "d1WXxVt6a90h"
      },
      "source": [
        "### Part (c) [4 pt]\n",
        "\n",
        "We will be using the package `torchtext` to load, process, and batch the data.\n",
        "A tutorial to torchtext is available below. This tutorial uses the same\n",
        "Sentiment140 data set that we explored during lecture.\n",
        "\n",
        "https://medium.com/@sonicboom8/sentiment-analysis-torchtext-55fb57b1fab8\n",
        "\n",
        "Unlike what we did during lecture, we will be building a **character level RNN**.\n",
        "That is, we will treat each **character** as a token in our sequence,\n",
        "rather than each **word**.\n",
        "\n",
        "Identify two advantage and two disadvantage of modelling SMS text\n",
        "messages as a sequence of characters rather than a sequence of words."
      ]
    },
    {
      "cell_type": "markdown",
      "metadata": {
        "id": "EzLp5qoQKK9v"
      },
      "source": [
        "**Advantages:**\n",
        "\n",
        "1. There are only 26 characters in English, for example, but the number of words can be a huge number. So it requires a small range of inputs, and lower the memory needed when processing.\n",
        "2. When consider words sequence, unseen words may occurred during test, while there won't be unseen characters.\n",
        "\n",
        "**Disadvantage**\n",
        "\n",
        "1. words have meaning which can contribute to classify the type of the emails. For example, money is more frequent to be seen in a spam email. However, when train the model according to characters, the meaning of each word get lost and may affect the prediction results.\n",
        "\n",
        "2. charcters are more than words in an email. So it requires more commutation time."
      ]
    },
    {
      "cell_type": "markdown",
      "metadata": {
        "id": "ie_D0bv9a90k"
      },
      "source": [
        "### Part (d) [1 pt]\n",
        "\n",
        "We will be loading our data set using `torchtext.data.TabularDataset`. The\n",
        "constructor will read directly from the `SMSSpamCollection` file. \n",
        "\n",
        "For the data file to be read successfuly, we\n",
        "need to specify the **fields** (columns) in the file. \n",
        "In our case, the dataset has two fields: \n",
        "\n",
        "- a text field containing the sms messages,\n",
        "- a label field which will be converted into a binary label.\n",
        "\n",
        "Split the dataset into `train`, `valid`, and `test`. Use a 60-20-20 split.\n",
        "You may find this torchtext API page helpful:\n",
        "https://torchtext.readthedocs.io/en/latest/data.html#dataset\n",
        "\n",
        "Hint: There is a `Dataset` method that can perform the random split for you."
      ]
    },
    {
      "cell_type": "code",
      "metadata": {
        "collapsed": true,
        "id": "P_Y6Puz9a90l"
      },
      "source": [
        "import torchtext\n",
        "\n",
        "text_field = torchtext.legacy.data.Field(sequential=True,      # text sequence\n",
        "                                  tokenize=lambda x: x, # because are building a character-RNN\n",
        "                                  include_lengths=True, # to track the length of sequences, for batching\n",
        "                                  batch_first=True,\n",
        "                                  use_vocab=True)       # to turn each character into an integer index\n",
        "label_field = torchtext.legacy.data.Field(sequential=False,    # not a sequence\n",
        "                                   use_vocab=False,     # don't need to track vocabulary\n",
        "                                   is_target=True,      \n",
        "                                   batch_first=True,\n",
        "                                   preprocessing=lambda x: int(x == 'spam')) # convert text to 0 and 1\n",
        "\n",
        "fields = [('label', label_field), ('sms', text_field)]\n",
        "dataset = torchtext.legacy.data.TabularDataset(\"/SMSSpamCollection\", # name of the file\n",
        "                                        \"tsv\",               # fields are separated by a tab\n",
        "                                        fields)\n",
        "\n",
        "# dataset[0].sms\n",
        "# dataset[0].label\n",
        "# train, valid, test = ...\n",
        "train, valid, test = dataset.split(split_ratio =[0.6, 0.2, 0.2])"
      ],
      "execution_count": null,
      "outputs": []
    },
    {
      "cell_type": "markdown",
      "metadata": {
        "id": "v6nP0Ks_a90o"
      },
      "source": [
        "### Part (e) [2 pt]\n",
        "\n",
        "You saw in part (b) that there are many more non-spam messages than spam messages.\n",
        "This **imbalance** in our training data will be problematic for training.\n",
        "We can fix this disparity by duplicating spam messages in the training set,\n",
        "so that the training set is roughly **balanced**.\n",
        "\n",
        "Explain why having a balanced training set is helpful for training our neural network.\n",
        "\n",
        "Note: if you are not sure, try removing the below code and train your mode."
      ]
    },
    {
      "cell_type": "code",
      "metadata": {
        "collapsed": true,
        "id": "FWvx9_rka90p"
      },
      "source": [
        "# save the original training examples\n",
        "old_train_examples = train.examples\n",
        "# get all the spam messages in `train`\n",
        "train_spam = []\n",
        "for item in train.examples:\n",
        "    if item.label == 1:\n",
        "        train_spam.append(item)\n",
        "# duplicate each spam message 6 more times\n",
        "train.examples = old_train_examples + train_spam * 6"
      ],
      "execution_count": null,
      "outputs": []
    },
    {
      "cell_type": "markdown",
      "metadata": {
        "id": "Dkw9ZMzpOPfa"
      },
      "source": [
        "If the dataset is unbalanced. Model will realize that non-spam email has a higher possibility to occur in dataset. It will generally put a bias towards non-spam when classifying. It affects the reliability of the model during testting.\n"
      ]
    },
    {
      "cell_type": "markdown",
      "metadata": {
        "id": "j7eUmBEva90r"
      },
      "source": [
        "### Part (f) [1 pt]\n",
        "\n",
        "We need to build the vocabulary on the training data by running the below code.\n",
        "This finds all the possible character tokens in the training set.\n",
        "\n",
        "Explain what the variables `text_field.vocab.stoi` and `text_field.vocab.itos` represent."
      ]
    },
    {
      "cell_type": "code",
      "metadata": {
        "collapsed": true,
        "id": "8CQM8flKa90s"
      },
      "source": [
        "text_field.build_vocab(train)\n",
        "#text_field.vocab.stoi\n",
        "#text_field.vocab.itos"
      ],
      "execution_count": null,
      "outputs": []
    },
    {
      "cell_type": "markdown",
      "metadata": {
        "id": "eVCL-2UXPvBF"
      },
      "source": [
        "**stoi:**\n",
        "mapping each charcter to a number indicating a index for training set.\n",
        "\n",
        "**itos:** \n",
        "mapping each number from the indext for training set to the corresponding characters."
      ]
    },
    {
      "cell_type": "markdown",
      "metadata": {
        "id": "TC8WVE8Ua90u"
      },
      "source": [
        "### Part (g) [2 pt]\n",
        "\n",
        "The tokens `<unk>` and `<pad>` were not in our SMS text messages.\n",
        "What do these two values represent?"
      ]
    },
    {
      "cell_type": "markdown",
      "metadata": {
        "id": "E07pbqOqbS_a"
      },
      "source": [
        "**unk** represents an unkown character\n",
        "\n",
        "**pad** represends a token used in incerease the size of the training message, such that all batches will have same length."
      ]
    },
    {
      "cell_type": "markdown",
      "metadata": {
        "id": "Ff5CNk7Qa90y"
      },
      "source": [
        "### Part (h) [2 pt]\n",
        "\n",
        "Since text sequences are of variable length, `torchtext` provides a `BucketIterator` data loader,\n",
        "which batches similar length sequences together. The iterator also provides functionalities to\n",
        "pad sequences automatically.\n",
        "\n",
        "Take a look at 10 batches in `train_iter`. What is the maximum length of the\n",
        "input sequence in each batch? How many `<pad>` tokens are used in each of the 10\n",
        "batches?"
      ]
    },
    {
      "cell_type": "code",
      "metadata": {
        "collapsed": true,
        "id": "V8N8qLWOa90y"
      },
      "source": [
        "train_iter = torchtext.legacy.data.BucketIterator(train,\n",
        "                                           batch_size=32,\n",
        "                                           sort_key=lambda x: len(x.sms), # to minimize padding\n",
        "                                           sort_within_batch=True,        # sort within each batch\n",
        "                                           repeat=False)                  # repeat the iterator for many epochs"
      ],
      "execution_count": null,
      "outputs": []
    },
    {
      "cell_type": "code",
      "metadata": {
        "colab": {
          "base_uri": "https://localhost:8080/"
        },
        "id": "Qwz-rOaha902",
        "outputId": "f9d154ab-0cbb-4f3c-93ae-94b6f7deb536"
      },
      "source": [
        "i = 0\n",
        "max_length = 0\n",
        "num_pad = 0\n",
        "for batch in train_iter:\n",
        "    if(i < 10):\n",
        "      for sms_element in batch.sms[0]:\n",
        "        max_length = max(max_length, len(sms_element))\n",
        "        for token in sms_element:\n",
        "          if token == text_field.vocab.stoi[\"<pad>\"]:\n",
        "            num_pad += 1\n",
        "      print(\"Batch# \", i + 1, \": max length is \", max_length, \" and the number of <pad> is \", num_pad)\n",
        "      max_length = 0\n",
        "      num_pad = 0\n",
        "      i += 1\n",
        "    else:\n",
        "      break"
      ],
      "execution_count": null,
      "outputs": [
        {
          "output_type": "stream",
          "text": [
            "Batch#  1 : max length is  49  and the number of <pad> is  12\n",
            "Batch#  2 : max length is  146  and the number of <pad> is  20\n",
            "Batch#  3 : max length is  156  and the number of <pad> is  25\n",
            "Batch#  4 : max length is  138  and the number of <pad> is  41\n",
            "Batch#  5 : max length is  32  and the number of <pad> is  19\n",
            "Batch#  6 : max length is  24  and the number of <pad> is  2\n",
            "Batch#  7 : max length is  163  and the number of <pad> is  15\n",
            "Batch#  8 : max length is  51  and the number of <pad> is  24\n",
            "Batch#  9 : max length is  75  and the number of <pad> is  42\n",
            "Batch#  10 : max length is  119  and the number of <pad> is  67\n"
          ],
          "name": "stdout"
        }
      ]
    },
    {
      "cell_type": "markdown",
      "metadata": {
        "id": "y7HnqP6_a904"
      },
      "source": [
        "## Part 2. Model Building [8 pt]\n",
        "\n",
        "Build a recurrent neural network model, using an architecture of your choosing. \n",
        "Use the one-hot embedding of each character as input to your recurrent network.\n",
        "Use one or more fully-connected layers to make the prediction based on your\n",
        "recurrent network output.\n",
        "\n",
        "Instead of using the RNN output value for the final token, another often used\n",
        "strategy is to max-pool over the entire output array. That is, instead of calling\n",
        "something like:\n",
        "\n",
        "```\n",
        "out, _ = self.rnn(x)\n",
        "self.fc(out[:, -1, :])\n",
        "```\n",
        "\n",
        "where `self.rnn` is an `nn.RNN`, `nn.GRU`, or `nn.LSTM` module, and `self.fc` is a \n",
        "fully-connected \n",
        "layer, we use:\n",
        "\n",
        "```\n",
        "out, _ = self.rnn(x)\n",
        "self.fc(torch.max(out, dim=1)[0])\n",
        "```\n",
        "\n",
        "This works reasonably in practice. An even better alternative is to concatenate the\n",
        "max-pooling and average-pooling of the RNN outputs:\n",
        "\n",
        "```\n",
        "out, _ = self.rnn(x)\n",
        "out = torch.cat([torch.max(out, dim=1)[0], \n",
        "                 torch.mean(out, dim=1)], dim=1)\n",
        "self.fc(out)\n",
        "```\n",
        "\n",
        "We encourage you to try out all these options. The way you pool the RNN outputs\n",
        "is one of the \"hyperparameters\" that you can choose to tune later on."
      ]
    },
    {
      "cell_type": "code",
      "metadata": {
        "colab": {
          "base_uri": "https://localhost:8080/"
        },
        "id": "jHl1p_Wwa905",
        "outputId": "82ec9ab1-b09d-4557-a48e-e2c3fed44fc5"
      },
      "source": [
        "# You might find this code helpful for obtaining\n",
        "# PyTorch one-hot vectors.\n",
        "\n",
        "ident = torch.eye(10)\n",
        "print(ident[0]) # one-hot vector\n",
        "print(ident[1]) # one-hot vector\n",
        "x = torch.tensor([[1, 2], [3, 4]])\n",
        "print(ident[x]) # one-hot vectors"
      ],
      "execution_count": null,
      "outputs": [
        {
          "output_type": "stream",
          "text": [
            "tensor([1., 0., 0., 0., 0., 0., 0., 0., 0., 0.])\n",
            "tensor([0., 1., 0., 0., 0., 0., 0., 0., 0., 0.])\n",
            "tensor([[[0., 1., 0., 0., 0., 0., 0., 0., 0., 0.],\n",
            "         [0., 0., 1., 0., 0., 0., 0., 0., 0., 0.]],\n",
            "\n",
            "        [[0., 0., 0., 1., 0., 0., 0., 0., 0., 0.],\n",
            "         [0., 0., 0., 0., 1., 0., 0., 0., 0., 0.]]])\n"
          ],
          "name": "stdout"
        }
      ]
    },
    {
      "cell_type": "code",
      "metadata": {
        "collapsed": true,
        "id": "4LTQ7zFka909"
      },
      "source": [
        "class RNN(nn.Module):\n",
        "  def __init__(self, vocab_size, hidden_size, num_layer = 1, num_classes = 2):\n",
        "    super(RNN, self).__init__()\n",
        "    self.emb = torch.eye(vocab_size)\n",
        "    self.hidden_size = hidden_size\n",
        "    self.rnn = nn.RNN(vocab_size, hidden_size, num_layer, batch_first=True)\n",
        "    self.fc = nn.Linear(hidden_size, num_classes)\n",
        "\n",
        "  def forward(self, x):\n",
        "    hot_coding = []\n",
        "    for sms in x:\n",
        "      hot_coding.append(self.emb[sms])\n",
        "    input = torch.stack(hot_coding)\n",
        "    output,_ = self.rnn(input)\n",
        "    output = torch.max(output, dim = 1)[0]\n",
        "    output = self.fc(output)\n",
        "    return output\n"
      ],
      "execution_count": null,
      "outputs": []
    },
    {
      "cell_type": "markdown",
      "metadata": {
        "id": "vKIYPl_Ba90_"
      },
      "source": [
        "## Part 3. Training [16 pt]\n",
        "\n",
        "### Part (a) [4 pt]\n",
        "\n",
        "Complete the `get_accuracy` function, which will compute the\n",
        "accuracy (rate) of your model across a dataset (e.g. validation set).\n",
        "You may modify `torchtext.data.BucketIterator` to make your computation\n",
        "faster."
      ]
    },
    {
      "cell_type": "code",
      "metadata": {
        "collapsed": true,
        "id": "pvNfhGD6a91A"
      },
      "source": [
        "def get_accuracy_loss(model, data):\n",
        "    \"\"\" Compute the accuracy of the `model` across a dataset `data`\n",
        "    \n",
        "    Example usage:\n",
        "    \n",
        "    >>> model = MyRNN() # to be defined\n",
        "    >>> get_accuracy(model, valid) # the variable `valid` is from above\n",
        "    \"\"\"\n",
        "    criterion = nn.CrossEntropyLoss()\n",
        "    correct = 0\n",
        "    total_num = 0\n",
        "    for sms, label in data:\n",
        "      output = model(sms[0])\n",
        "      pred = output.max(1, keepdim = True)[1]\n",
        "      correct += pred.eq(label.view_as(pred)).sum().item()\n",
        "      total_num += label.shape[0]\n",
        "      output = model(sms[0])\n",
        "      loss = criterion(output, label)\n",
        "    return correct / total_num, float(loss)"
      ],
      "execution_count": null,
      "outputs": []
    },
    {
      "cell_type": "code",
      "metadata": {
        "id": "9j-4icXx5Ra5"
      },
      "source": [
        "def train_net(model, train, valid, batch_size, learning_rate = 1e-4, num_epochs = 5):\n",
        "    ########################################################################\n",
        "    # Define the Loss function and optimizer\n",
        "    criterion = nn.CrossEntropyLoss()\n",
        "    optimizer = torch.optim.Adam(model.parameters(), lr = learning_rate)\n",
        "    ########################################################################\n",
        "    # Set up some numpy arrays to store the training/test loss/erruracy\n",
        "    train_acc = np.zeros(num_epochs)\n",
        "    train_loss = np.zeros(num_epochs)\n",
        "    val_acc = np.zeros(num_epochs)\n",
        "    val_loss = np.zeros(num_epochs)\n",
        "    ########################################################################\n",
        "    # Train the network\n",
        "    # Loop over the data iterator and sample a new batch of training data\n",
        "    # Get the output from the network, and optimize our loss function.\n",
        "    for epoch in range(num_epochs):  # loop over the dataset multiple times\n",
        "        for sms, label in train:\n",
        "            # Zero the parameter gradients\n",
        "            optimizer.zero_grad()\n",
        "            # Forward pass, backward pass, and optimize\n",
        "            output = model(sms[0])\n",
        "            #calculate the loss\n",
        "            loss = criterion(output, label)\n",
        "            loss.backward()\n",
        "            optimizer.step()\n",
        "        train_acc[epoch], train_loss[epoch]= get_accuracy_loss(model, train)\n",
        "        val_acc[epoch], val_loss[epoch] = get_accuracy_loss(model, valid)\n",
        "        print((\"Epoch {}: Train acc: {}, Train loss: {} |\"+\n",
        "               \"Validation acc: {}, Validation loss: {}\").format(\n",
        "                   epoch + 1,\n",
        "                   train_acc[epoch],\n",
        "                   train_loss[epoch],\n",
        "                   val_acc[epoch],\n",
        "                   val_loss[epoch]))\n",
        "    print('Finished Training')\n",
        "\n",
        "    import matplotlib.pyplot as plt\n",
        "    plt.title(\"Train vs Validation Accuracy\")\n",
        "    n = len(train_acc) # number of epochs\n",
        "    plt.plot(range(1,n+1), train_acc, label=\"Train\")\n",
        "    plt.plot(range(1,n+1), val_acc, label=\"Validation\")\n",
        "    plt.xlabel(\"Epoch\")\n",
        "    plt.ylabel(\"Error\")\n",
        "    plt.legend(loc='best')\n",
        "    plt.show()\n",
        "    plt.title(\"Train vs Validation Loss\")\n",
        "    plt.plot(range(1,n+1), train_loss, label=\"Train\")\n",
        "    plt.plot(range(1,n+1), val_loss, label=\"Validation\")\n",
        "    plt.xlabel(\"Epoch\")\n",
        "    plt.ylabel(\"Loss\")\n",
        "    plt.legend(loc='best')\n",
        "    plt.show()"
      ],
      "execution_count": null,
      "outputs": []
    },
    {
      "cell_type": "markdown",
      "metadata": {
        "id": "TlxlcAC1a91C"
      },
      "source": [
        "### Part (b) [4 pt]\n",
        "\n",
        "Train your model. Plot the training curve of your final model. \n",
        "Your training curve should have the training/validation loss and\n",
        "accuracy plotted periodically.\n",
        "\n",
        "Note: Not all of your batches will have the same batch size.\n",
        "In particular, if your training set does not divide evenly by\n",
        "your batch size, there will be a batch that is smaller than\n",
        "the rest. "
      ]
    },
    {
      "cell_type": "code",
      "metadata": {
        "id": "r6Gx-UWhAN1E"
      },
      "source": [
        "train_iter = torchtext.legacy.data.BucketIterator(train,\n",
        "                                           batch_size=32,\n",
        "                                           sort_key=lambda x: len(x.sms), # to minimize padding\n",
        "                                           sort_within_batch=True,        # sort within each batch\n",
        "                                           repeat=False)                  # repeat the iterator for many epochs\n",
        "val_iter = torchtext.legacy.data.BucketIterator(valid,\n",
        "                                           batch_size=32,\n",
        "                                           sort_key=lambda x: len(x.sms), # to minimize padding\n",
        "                                           sort_within_batch=True,        # sort within each batch\n",
        "                                           repeat=False)                  # repeat the iterator for many epochs\n",
        "test_iter = torchtext.legacy.data.BucketIterator(test,\n",
        "                                           batch_size=32,\n",
        "                                           sort_key=lambda x: len(x.sms), # to minimize padding\n",
        "                                           sort_within_batch=True,        # sort within each batch\n",
        "                                           repeat=False)                  # repeat the iterator for many epochs"
      ],
      "execution_count": null,
      "outputs": []
    },
    {
      "cell_type": "code",
      "metadata": {
        "colab": {
          "base_uri": "https://localhost:8080/",
          "height": 675
        },
        "id": "CVtf7CJCa91D",
        "outputId": "d4d7d046-2a76-4c10-dc8d-0e50a3508b0b"
      },
      "source": [
        "first_rnn = RNN(len(text_field.vocab.itos), len(text_field.vocab.itos))\n",
        "train_net(first_rnn, train_iter, val_iter, batch_size= 32, learning_rate=1e-4, num_epochs=5)"
      ],
      "execution_count": null,
      "outputs": [
        {
          "output_type": "stream",
          "text": [
            "Epoch 1: Train acc: 0.6273577169099557, Train loss: 0.6999562382698059 |Validation acc: 0.3237668161434978, Validation loss: 0.7002593874931335\n",
            "Epoch 2: Train acc: 0.8969985238641955, Train loss: 0.6681942343711853 |Validation acc: 0.8286995515695067, Validation loss: 0.6506399512290955\n",
            "Epoch 3: Train acc: 0.9238969985238642, Train loss: 0.4109054207801819 |Validation acc: 0.8905829596412556, Validation loss: 0.5557207465171814\n",
            "Epoch 4: Train acc: 0.9378382811218632, Train loss: 0.3575499951839447 |Validation acc: 0.9587443946188341, Validation loss: 0.2899458408355713\n",
            "Epoch 5: Train acc: 0.942102673445957, Train loss: 0.17692930996418 |Validation acc: 0.9506726457399103, Validation loss: 0.2027396708726883\n",
            "Finished Training\n"
          ],
          "name": "stdout"
        },
        {
          "output_type": "display_data",
          "data": {
            "image/png": "[encoded data removed]",
            "text/plain": [
              "<Figure size 432x288 with 1 Axes>"
            ]
          },
          "metadata": {
            "tags": [],
            "needs_background": "light"
          }
        },
        {
          "output_type": "display_data",
          "data": {
            "image/png": "[encoded data removed]",
            "text/plain": [
              "<Figure size 432x288 with 1 Axes>"
            ]
          },
          "metadata": {
            "tags": [],
            "needs_background": "light"
          }
        }
      ]
    },
    {
      "cell_type": "markdown",
      "metadata": {
        "id": "fE3eRkDAa91F"
      },
      "source": [
        "### Part (c) [4 pt]\n",
        "\n",
        "Choose at least 4 hyperparameters to tune. Explain how you tuned the hyperparameters.\n",
        "You don't need to include your training curve for every model you trained.\n",
        "Instead, explain what hyperparemters you tuned, what the best validation accuracy was,\n",
        "and the reasoning behind the hyperparameter decisions you made.\n",
        "\n",
        "For this assignment, you should tune more than just your learning rate and epoch. \n",
        "Choose at least 2 hyperparameters that are unrelated to the optimizer."
      ]
    },
    {
      "cell_type": "markdown",
      "metadata": {
        "id": "022DdX3zMjgC"
      },
      "source": [
        "**four hyperparameters: epoch, learning rate, number of layers, combining max pooling with average pooling**\n",
        "\n",
        "**1. Try epoch = 10: second_rnn**\n",
        "\n",
        "we get the final accuracy is: Validation acc: 0.9739910313901345\n",
        "\n",
        "The accuracy increases, so I will use epoch = 10 instead.\n",
        "\n",
        "**2. Try learning_rate = 1e-5: third_rnn**\n",
        "\n",
        "get the final accuracy: Validation acc: 0.726457399103139\n",
        "\n",
        "The accuracy does not improve as the learning_rate lowered. So stay in initial learning rate = 1e-4\n",
        "\n",
        "**3. Try num_layer = 3: forth_rnn**\n",
        "\n",
        "get the final accuracy: Validation acc: 0.9695067264573991\n",
        "\n",
        "So I will stay using 1 layer.\n",
        "\n",
        "**4. Try combining pooling: fifth_rnn**\n",
        "\n",
        "get the final accuracy: Validation acc: 0.967713004484305\n",
        "\n",
        "The accyracy does not improve. So I will stay to use the **second_rnn** as my best model:\n",
        "\n",
        "**Epoch = 10, learning_rate = 1e-4, num_layer = 1, using single max pooling.**\n",
        "\n",
        "\n",
        "\n"
      ]
    },
    {
      "cell_type": "code",
      "metadata": {
        "colab": {
          "base_uri": "https://localhost:8080/",
          "height": 760
        },
        "id": "7nBs9LUDXvpE",
        "outputId": "63ee2ebf-a375-47e6-ac44-37a0d8091ad9"
      },
      "source": [
        "second_rnn = RNN(len(text_field.vocab.itos), len(text_field.vocab.itos))\n",
        "train_net(second_rnn, train_iter, val_iter, batch_size= 32, learning_rate=1e-4, num_epochs=10)"
      ],
      "execution_count": null,
      "outputs": [
        {
          "output_type": "stream",
          "text": [
            "Epoch 1: Train acc: 0.5942266688535345, Train loss: 0.5809907913208008 |Validation acc: 0.23766816143497757, Validation loss: 0.7220419049263\n",
            "Epoch 2: Train acc: 0.912743972445465, Train loss: 0.4438171982765198 |Validation acc: 0.874439461883408, Validation loss: 0.6215161085128784\n",
            "Epoch 3: Train acc: 0.926029194685911, Train loss: 0.16538019478321075 |Validation acc: 0.9695067264573991, Validation loss: 0.3037334680557251\n",
            "Epoch 4: Train acc: 0.9309496473675578, Train loss: 0.3183663785457611 |Validation acc: 0.9695067264573991, Validation loss: 0.2572445571422577\n",
            "Epoch 5: Train acc: 0.9365261604067574, Train loss: 0.0684966892004013 |Validation acc: 0.9668161434977578, Validation loss: 0.2653743624687195\n",
            "Epoch 6: Train acc: 0.9304576020993931, Train loss: 0.3179202675819397 |Validation acc: 0.884304932735426, Validation loss: 0.4016663134098053\n",
            "Epoch 7: Train acc: 0.9504674430047564, Train loss: 0.6105554103851318 |Validation acc: 0.9704035874439462, Validation loss: 0.1145683228969574\n",
            "Epoch 8: Train acc: 0.9434147941610628, Train loss: 0.05190064385533333 |Validation acc: 0.9390134529147982, Validation loss: 0.18469402194023132\n",
            "Epoch 9: Train acc: 0.9514515335410858, Train loss: 0.35940808057785034 |Validation acc: 0.9650224215246637, Validation loss: 0.10117718577384949\n",
            "Epoch 10: Train acc: 0.9539117598819091, Train loss: 0.28168267011642456 |Validation acc: 0.9739910313901345, Validation loss: 0.057035114616155624\n",
            "Finished Training\n"
          ],
          "name": "stdout"
        },
        {
          "output_type": "display_data",
          "data": {
            "image/png": "[encoded data removed]",
            "text/plain": [
              "<Figure size 432x288 with 1 Axes>"
            ]
          },
          "metadata": {
            "tags": [],
            "needs_background": "light"
          }
        },
        {
          "output_type": "display_data",
          "data": {
            "image/png": "[encoded data removed]",
            "text/plain": [
              "<Figure size 432x288 with 1 Axes>"
            ]
          },
          "metadata": {
            "tags": [],
            "needs_background": "light"
          }
        }
      ]
    },
    {
      "cell_type": "code",
      "metadata": {
        "id": "Le6eAuf9UWeQ"
      },
      "source": [
        "class RNN_comb(nn.Module): # for the fifth_rnn\n",
        "  def __init__(self, vocab_size, hidden_size, num_layer = 1, num_classes = 2):\n",
        "    super(RNN_comb, self).__init__()\n",
        "    self.emb = torch.eye(vocab_size)\n",
        "    self.hidden_size = hidden_size\n",
        "    self.rnn = nn.RNN(vocab_size, hidden_size, num_layer, batch_first=True)\n",
        "    self.fc = nn.Linear(hidden_size * 2, num_classes) #double the hidden size for concatenating max and average pooling\n",
        "\n",
        "  def forward(self, x):\n",
        "    hot_coding = []\n",
        "    for sms in x:\n",
        "      hot_coding.append(self.emb[sms])\n",
        "    input = torch.stack(hot_coding)\n",
        "    output,_ = self.rnn(input)\n",
        "    output =  torch.cat([torch.max(output, dim=1)[0], \n",
        "                 torch.mean(output, dim=1)], dim=1)\n",
        "    output = self.fc(output)\n",
        "    return output\n"
      ],
      "execution_count": null,
      "outputs": []
    },
    {
      "cell_type": "markdown",
      "metadata": {
        "id": "v7DY56rKa91I"
      },
      "source": [
        "### Part (d) [2 pt]\n",
        "\n",
        "Before we deploy a machine learning model, we usually want to have a better understanding\n",
        "of how our model performs beyond its validation accuracy. An important metric to track is\n",
        "*how well our model performs in certain subsets of the data*.\n",
        "\n",
        "In particular, what is the model's error rate amongst data with negative labels?\n",
        "This is called the **false positive rate**.\n",
        "\n",
        "What about the model's error rate amongst data with positive labels?\n",
        "This is called the **false negative rate**.\n",
        "\n",
        "Report your final model's false positive and false negative rate across the\n",
        "validation set."
      ]
    },
    {
      "cell_type": "code",
      "metadata": {
        "collapsed": true,
        "id": "7ggbQSdba91J"
      },
      "source": [
        "# Create a Dataset of only spam validation examples\n",
        "valid_spam = torchtext.legacy.data.Dataset(\n",
        "    [e for e in valid.examples if e.label == 1],\n",
        "    valid.fields)\n",
        "# Create a Dataset of only non-spam validation examples\n",
        "valid_nospam = torchtext.legacy.data.Dataset(\n",
        "    [e for e in valid.examples if e.label == 0],\n",
        "    valid.fields)"
      ],
      "execution_count": null,
      "outputs": []
    },
    {
      "cell_type": "code",
      "metadata": {
        "id": "ii8y4Hf1dm2-"
      },
      "source": [
        "valid_spam_iter = torchtext.legacy.data.BucketIterator(valid_spam,\n",
        "                                           batch_size=32,\n",
        "                                           sort_key=lambda x: len(x.sms), # to minimize padding\n",
        "                                           sort_within_batch=True,        # sort within each batch\n",
        "                                           repeat=False)                  # repeat the iterator for many epochs\n",
        "valid_nospam_iter = torchtext.legacy.data.BucketIterator(valid_nospam,\n",
        "                                           batch_size=32,\n",
        "                                           sort_key=lambda x: len(x.sms), # to minimize padding\n",
        "                                           sort_within_batch=True,        # sort within each batch\n",
        "                                           repeat=False)                  # repeat the iterator for many epochs"
      ],
      "execution_count": null,
      "outputs": []
    },
    {
      "cell_type": "code",
      "metadata": {
        "colab": {
          "base_uri": "https://localhost:8080/"
        },
        "id": "-IIJ6uwAeESZ",
        "outputId": "7ddfb129-0cfe-4ef3-cf28-04120bf5c6aa"
      },
      "source": [
        "false_positive_acc, false_positive_loss = get_accuracy_loss(second_rnn, valid_nospam_iter)\n",
        "false_negative_acc, false_negative_loss = get_accuracy_loss(second_rnn, valid_spam_iter)\n",
        "print(\"the false positive rate is :\", (1-false_positive_acc))\n",
        "print(\"the false negative rate is :\", (1-false_negative_acc))"
      ],
      "execution_count": null,
      "outputs": [
        {
          "output_type": "stream",
          "text": [
            "the false positive rate is : 0.024742268041237137\n",
            "the false negative rate is : 0.0482758620689655\n"
          ],
          "name": "stdout"
        }
      ]
    },
    {
      "cell_type": "markdown",
      "metadata": {
        "id": "N1iRteb3a91O"
      },
      "source": [
        "### Part (e) [2 pt]\n",
        "\n",
        "The impact of a false positive vs a false negative can be drastically different.\n",
        "If our spam detection algorithm was deployed on your phone, what is the impact\n",
        "of a false positive on the phone's user? What is the impact of a false negative?"
      ]
    },
    {
      "cell_type": "markdown",
      "metadata": {
        "id": "4GqCOtyTfnD_"
      },
      "source": [
        "**false positive:** consider a nonspam email as spam. this could be a problem when people losing important emails as the output of the algorithm\n",
        "\n",
        "**false negative:** consider a spam email as nonspam. This does not raise a big issue. But the reciever will be annoyed when recieving spam emails."
      ]
    },
    {
      "cell_type": "markdown",
      "metadata": {
        "id": "Gznefulsa91V"
      },
      "source": [
        "## Part 4. Evaluation [11 pt]\n",
        "\n",
        "### Part (a) [1 pt]\n",
        "\n",
        "Report the final test accuracy of your model."
      ]
    },
    {
      "cell_type": "code",
      "metadata": {
        "colab": {
          "base_uri": "https://localhost:8080/"
        },
        "id": "D5L5D-A1a91W",
        "outputId": "079f586f-db04-4306-ca87-5c571e2cc668"
      },
      "source": [
        "final_test_acc, final_test_loss = get_accuracy_loss(second_rnn, test_iter)\n",
        "print(\"the final test accuracy of my model is: \", final_test_acc)"
      ],
      "execution_count": null,
      "outputs": [
        {
          "output_type": "stream",
          "text": [
            "the final test accuracy of my model is:  0.9614003590664273\n"
          ],
          "name": "stdout"
        }
      ]
    },
    {
      "cell_type": "markdown",
      "metadata": {
        "id": "6Hjmd8rca91Y"
      },
      "source": [
        "### Part (b) [3 pt]\n",
        "\n",
        "Report the false positive rate and false negative rate of your model across the test set."
      ]
    },
    {
      "cell_type": "code",
      "metadata": {
        "collapsed": true,
        "id": "GFiAKztJa91Z"
      },
      "source": [
        "test_spam = torchtext.legacy.data.Dataset(\n",
        "    [e for e in test.examples if e.label == 1],\n",
        "    valid.fields)\n",
        "\n",
        "test_nospam = torchtext.legacy.data.Dataset(\n",
        "    [e for e in test.examples if e.label == 0],\n",
        "    valid.fields)\n",
        "\n",
        "test_spam_iter = torchtext.legacy.data.BucketIterator(test_spam,\n",
        "                                           batch_size=32,\n",
        "                                           sort_key=lambda x: len(x.sms), # to minimize padding\n",
        "                                           sort_within_batch=True,        # sort within each batch\n",
        "                                           repeat=False)                  # repeat the iterator for many epochs\n",
        "test_nospam_iter = torchtext.legacy.data.BucketIterator(test_nospam,\n",
        "                                           batch_size=32,\n",
        "                                           sort_key=lambda x: len(x.sms), # to minimize padding\n",
        "                                           sort_within_batch=True,        # sort within each batch\n",
        "                                           repeat=False)                  # repeat the iterator for many epochs"
      ],
      "execution_count": null,
      "outputs": []
    },
    {
      "cell_type": "code",
      "metadata": {
        "colab": {
          "base_uri": "https://localhost:8080/"
        },
        "id": "S62x1us5hEdn",
        "outputId": "e1acf6eb-5a9c-4525-947a-ba70f5c6a1c0"
      },
      "source": [
        "false_positive_acc, false_positive_loss = get_accuracy_loss(second_rnn, test_nospam_iter)\n",
        "false_negative_acc, false_negative_loss = get_accuracy_loss(second_rnn, test_spam_iter)\n",
        "print(\"the false positive rate in test set is :\", (1-false_positive_acc))\n",
        "print(\"the false negative rate in test set is :\", (1-false_negative_acc))"
      ],
      "execution_count": null,
      "outputs": [
        {
          "output_type": "stream",
          "text": [
            "the false positive rate in test set is : 0.040164778578784754\n",
            "the false negative rate in test set is : 0.027972027972028024\n"
          ],
          "name": "stdout"
        }
      ]
    },
    {
      "cell_type": "markdown",
      "metadata": {
        "id": "0jGHtQFpa91b"
      },
      "source": [
        "### Part (c) [3 pt]\n",
        "\n",
        "What is your model's prediction of the **probability** that\n",
        "the SMS message \"machine learning is sooo cool!\" is spam?\n",
        "\n",
        "Hint: To begin, use `text_field.vocab.stoi` to look up the index\n",
        "of each character in the vocabulary."
      ]
    },
    {
      "cell_type": "code",
      "metadata": {
        "colab": {
          "base_uri": "https://localhost:8080/"
        },
        "id": "h_2nSJq8a91b",
        "outputId": "c0e602ab-7944-4b99-a206-05ef0eb8f5de"
      },
      "source": [
        "msg = \"machine learning is sooo cool!\"\n",
        "msg_indx = []\n",
        "for char in msg:\n",
        "  msg_indx.append(torch.tensor(text_field.vocab.stoi[char]))\n",
        "prediction = second_rnn(torch.stack(msg_indx).unsqueeze_(0))\n",
        "result = F.softmax(prediction, dim = 1)[0][1].item()\n",
        "print(\"the possibility of it to be a spam email is: \", result)\n",
        "# result = F.softmax(, dim=1)[0][1].item()\n",
        "# print(\"The probability of this message to be a spam: \", result)"
      ],
      "execution_count": null,
      "outputs": [
        {
          "output_type": "stream",
          "text": [
            "the possibility of it to be a spam email is:  0.08699739724397659\n"
          ],
          "name": "stdout"
        }
      ]
    },
    {
      "cell_type": "markdown",
      "metadata": {
        "id": "QD1zgYJpa91f"
      },
      "source": [
        "### Part (d) [4 pt]\n",
        "\n",
        "Do you think detecting spam is an easy or difficult task?\n",
        "\n",
        "Since machine learning models are expensive to train and deploy, it is very\n",
        "important to compare our models against baseline models: a simple\n",
        "model that is easy to build and inexpensive to run that we can compare our\n",
        "recurrent neural network model against.\n",
        "\n",
        "Explain how you might build a simple baseline model. This baseline model\n",
        "can be a simple neural network (with very few weights), a hand-written algorithm,\n",
        "or any other strategy that is easy to build and test.\n",
        "\n",
        "**Do not actually build a baseline model. Instead, provide instructions on\n",
        "how to build it.**"
      ]
    },
    {
      "cell_type": "markdown",
      "metadata": {
        "id": "e_q9YZEyM_wW"
      },
      "source": [
        "We can use **Naive Bayes Classifier** as a baseline model. (learned from ece368)\n",
        "\n",
        "Naive Bayes assume that each email's possibility to be spam and ham is totally independent.  And the classifier suggested, we will define a email as spam if it has a high possibility given the word sequence in the email. We will define it as a ham vice versa.\n",
        "\n",
        "A baseline model can be established heuristically according to this theory. It will calculate two possibilities.\n",
        "\n",
        "1. the possibility of word sequence occurred in the email if this email is a ham * the prioir possibility of an email to be ham\n",
        "\n",
        "2. the possibility of word sequence occurred in the email if this email is a spam * the prioir possibility of an email to be spam\n",
        "\n",
        "the model will then mark the email with the label which has highr probability.\n",
        "\n",
        "This method does make sense in reality, since spam email will have a high possiblity to contain a word \"money\". In this case, the possibility of word \"money\" in spam is much higher than this word in ham. Our classifier will tend to mark this email as a spam email.\n",
        "\n"
      ]
    }
  ]
}